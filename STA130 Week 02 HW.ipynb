{
 "cells": [
  {
   "cell_type": "code",
   "execution_count": null,
   "id": "32b63bb1",
   "metadata": {},
   "outputs": [],
   "source": [
    "import numpy as np\n",
    "all_door_options = (1,2,3)  # tuple\n",
    "my_door_choice = 1  # 1,2,3\n",
    "i_won = 0\n",
    "reps = 100000\n",
    "for i in range(reps):\n",
    "    secret_winning_door = np.random.choice(all_door_options)\n",
    "    all_door_options_list = list(all_door_options)\n",
    "    # take the secret_winning_door, so we don't show it as a \"goat\" losing door\n",
    "    all_door_options_list.remove(secret_winning_door)\n",
    "    try:\n",
    "        # if my_door_choice was secret_winning_door then it's already removed\n",
    "        all_door_options_list.remove(my_door_choice)\n",
    "    except:\n",
    "        pass\n",
    "    # show a \"goat\" losing door and remove it\n",
    "    goat_door_reveal = np.random.choice(all_door_options_list)\n",
    "    all_door_options_list.remove(goat_door_reveal)\n",
    "\n",
    "    # put the secret_winning_door back in if it wasn't our choice\n",
    "    # we previously removed it, so it would be shown as a  \"goat\" losing door\n",
    "    if secret_winning_door != my_door_choice:\n",
    "        all_door_options_list.append(secret_winning_door)\n",
    "    # if secret_winning_door was our choice then all that's left in the list is a \"goat\" losing door\n",
    "    # if secret_winning_door wasn't our choice then it's all that will be left in the list\n",
    "\n",
    "    # swap strategy\n",
    "    my_door_choice = all_door_options_list[0]\n",
    "\n",
    "    if my_door_choice == secret_winning_door:\n",
    "        i_won += 1\n",
    "\n",
    "i_won/reps"
   ]
  },
  {
   "cell_type": "markdown",
   "id": "8e7975b3",
   "metadata": {},
   "source": [
    "For Q1-Q3\n",
    "ChatGPT Interaction Summary: https://chatgpt.com/share/66e728dc-9b30-8008-9c32-6e545bf75025"
   ]
  },
  {
   "cell_type": "markdown",
   "id": "2cf4ecb6",
   "metadata": {},
   "source": [
    "Q2. \n",
    "I prefer the functions that they define instead of having everything in the for loop. It definitely makes it easier to read as there is less going on in the for loop itself. Furthermore, the functions itself have names which helps the user trace the code. \n",
    "Additionally, I like the list comprehension they used in the reveal_goat_doors function. The code is very concise and easy to follow. You can tell they are only adding a goat door that has not been chosen in the list. The original code makes it a bit confusing as there is more going on. \n",
    "\n",
    "The only thing I dislike is the use of \"_\" in the for loop. Not sure why it decided to use that instead of \"i\" or another name that makes sense."
   ]
  },
  {
   "cell_type": "markdown",
   "id": "3b459048",
   "metadata": {},
   "source": [
    "Q3"
   ]
  },
  {
   "cell_type": "code",
   "execution_count": null,
   "id": "621c17da",
   "metadata": {},
   "outputs": [],
   "source": [
    "import numpy as np\n",
    "\n",
    "# Chooses random door from the list of doors\n",
    "def choose_door(doors):\n",
    "    return np.random.choice(doors)\n",
    "\n",
    "# Reveals the door that is a goat and has not been selected by the player\n",
    "def reveal_goat_door(doors, winning_door, initial_choice):\n",
    "    doors = [door for door in doors if door != winning_door and door != initial_choice]\n",
    "    return choose_door(doors)\n",
    "\n",
    "# Switches the player's initial choice to the door that is left over\n",
    "def switch_choice(remaining_doors):\n",
    "    return remaining_doors[0]\n",
    "\n",
    "# Function to simulate the Mony Hall problem and returns the winrate \n",
    "def simulate_monty_hall(initial_choice, reps):\n",
    "    win_count = 0\n",
    "    all_door_options = [1, 2, 3]\n",
    "    \n",
    "    # Loops through reps\n",
    "    for _ in range(reps):\n",
    "        # Chooses a door as the winning door\n",
    "        winning_door = choose_door(all_door_options)\n",
    "        \n",
    "        # Reveals the door that is a goat (not winning) and not our initial choice\n",
    "        goat_door = reveal_goat_door(all_door_options, winning_door, initial_choice)\n",
    "        \n",
    "        # List of remaining doors (ie not the door we selected and not a goat door)\n",
    "        remaining_doors = [door for door in all_door_options if door != initial_choice and door != goat_door]\n",
    "        \n",
    "        # Simulate switching\n",
    "        final_choice = switch_choice(remaining_doors)\n",
    "        \n",
    "        # Adds 1 to win_count if we chose the winning door after swtiching\n",
    "        if final_choice == winning_door:\n",
    "            win_count += 1\n",
    "\n",
    "    # Returns the winrate\n",
    "    return win_count / reps\n",
    "\n",
    "# Parameters\n",
    "initial_choice = 1\n",
    "reps = 100000\n",
    "\n",
    "# Run simulation\n",
    "win_rate = simulate_monty_hall(initial_choice, reps)\n",
    "print(f\"Win rate by switching: {win_rate:.4f}\")"
   ]
  },
  {
   "cell_type": "markdown",
   "id": "adcc00fe",
   "metadata": {},
   "source": [
    "Q4\n",
    "https://chatgpt.com/share/66e73729-32f4-8008-82de-32b3292ff3ca"
   ]
  },
  {
   "cell_type": "code",
   "execution_count": null,
   "id": "e3841a65",
   "metadata": {
    "scrolled": true
   },
   "outputs": [],
   "source": [
    "from IPython.display import YouTubeVideo\n",
    "YouTubeVideo('56mGTszb_iM', width = 550)"
   ]
  },
  {
   "cell_type": "code",
   "execution_count": null,
   "id": "174d47df",
   "metadata": {},
   "outputs": [],
   "source": [
    "# Markovian Chatbot\n",
    "\n",
    "from collections import defaultdict\n",
    "word_used = dict() # defaultdict(int)\n",
    "next_word = dict() # defaultdict(lambda: defaultdict(int))\n",
    "for i,word in enumerate(words[:-1]):\n",
    "\n",
    "    if word in word_used:\n",
    "        word_used[word] += 1\n",
    "    else:\n",
    "        word_used[word] = 1\n",
    "        next_word[word] = {}\n",
    "\n",
    "    if words[i+1] in next_word[word]:\n",
    "        next_word[word][words[i+1]] += 1\n",
    "    else:\n",
    "        next_word[word][words[i+1]] = 1"
   ]
  },
  {
   "cell_type": "markdown",
   "id": "fb2fc497",
   "metadata": {},
   "source": [
    "Q5.1, 5.2\n",
    "\n",
    "ChatGPT Log: https://chatgpt.com/share/66eb67e2-6498-8008-a24e-3671c3cc6fbf\n",
    "Summary only captured the last bit... "
   ]
  },
  {
   "cell_type": "markdown",
   "id": "ee8ca163",
   "metadata": {},
   "source": [
    "Q5.3\n",
    "\n",
    "ChatGPT log: https://chatgpt.com/share/66eb6d09-e014-8008-bb2c-0d4e4396973e"
   ]
  },
  {
   "cell_type": "markdown",
   "id": "55532449",
   "metadata": {},
   "source": [
    "6.1\n",
    "ChatBot was very direct about explaining the code. Although it did initially gloss over some details, namely nested_dict = lambda: defaultdict(nested_dict), it was able to answer all of my questions about these and give me feedback on my knowledge. It was able to explain what every line and all of the changes that the extensions made. Furthermore, the 'final' code it generated was quite nice. It was more orgnanized as it used functions to separate different parts of the code to make it more readable.\n",
    "\n",
    "6.2\n",
    "Overall, conversing with the ChatBot was quite time effective. Instead of needing to google everything, I was able to find the answers to my questions in one place. If I was ever confused about certain things and asked further, it would simply paraphrase its initial answer which was not ideal. Although, giving more specific prompts such as \"give me an specific example of x in a different context\" and further context definitely made produce better responses. \n",
    "\n",
    "6.3\n",
    "In terms of understanding code, ChatBot helped immensly. It is definitely useful for supplying me with detailed, yet concise, description the entire code. It helps me go through the lines and helps me understand why certain variables and statements are necessary. It is definitely preferable to use ChatBots when you are not understanding the code. Again, it is certainly better than searching on forums for hours as every bug is unique to one's own program."
   ]
  },
  {
   "cell_type": "markdown",
   "id": "e77c1269",
   "metadata": {},
   "source": [
    "7\n",
    "Before this course, I did not heavily rely on ChatBots as it felt like cheating. I thought the best way to learn was to use stacked overflow or other resources as it was the way most programmers were doing it. However, it is clear that people are beginning to use ChatBots, not to write large scale projects, but to help them understand and create snippets to be more time effective and be able to produce code as quick as possible. So far, as I have been using it, it has been an incredible productivity tool. It is so efficient and simple to ask a ChatBot any questions about code and data analysis. Nevertheless, I still do not believe it is a good tool to write entire programs as there are often bugs."
   ]
  },
  {
   "cell_type": "markdown",
   "id": "5aa0fa62",
   "metadata": {},
   "source": [
    "8.1, 8.2, 8.3\n",
    "ChatGPT Log: https://chatgpt.com/share/66eb75a7-0c88-8008-a933-be2ed30dee7d"
   ]
  },
  {
   "cell_type": "markdown",
   "id": "35f40b2a",
   "metadata": {},
   "source": [
    "8.4 \n",
    "For Data Science, it seems to be a good idea to have solid knowlege of coding and data analysis in the current job market. Coding is important to analyze big sets of data and Data analysis is crucial for interpreting and making 'data-driven' decisions. Hopefully STA130 gives me enough of an introduction so that my future options can be open. \n",
    "\n",
    "For AI Researching positions Python is a popular language. However, I will need more advanced skills. It will heavily rely on mathematics and statistics as well as understanding various algorithms. I will take future courses in the realm of AI to have a solid background. Furthermore, self learning may be a good option as personal rojects will further ingrain these algorithms."
   ]
  },
  {
   "cell_type": "markdown",
   "id": "c2813f37",
   "metadata": {},
   "source": [
    "Helpfulness:\n",
    "As stated before, the efficiency and direct answers it will provide.\n",
    "Limitations: \n",
    "Sometimes it is too broad. You need good prompts to get good answers.\n",
    "\n",
    "I typically ask it to give an example in another context. Sometimes I will open up a new chat. Other times I will give it more context about my problem/question."
   ]
  },
  {
   "cell_type": "markdown",
   "id": "88c64844",
   "metadata": {},
   "source": [
    "9. Somewhat"
   ]
  }
 ],
 "metadata": {
  "kernelspec": {
   "display_name": "Python 3 (ipykernel)",
   "language": "python",
   "name": "python3"
  },
  "language_info": {
   "codemirror_mode": {
    "name": "ipython",
    "version": 3
   },
   "file_extension": ".py",
   "mimetype": "text/x-python",
   "name": "python",
   "nbconvert_exporter": "python",
   "pygments_lexer": "ipython3",
   "version": "3.11.6"
  }
 },
 "nbformat": 4,
 "nbformat_minor": 5
}
