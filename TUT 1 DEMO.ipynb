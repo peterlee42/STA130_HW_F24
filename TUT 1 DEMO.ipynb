{
 "cells": [
  {
   "cell_type": "code",
   "execution_count": 4,
   "id": "84fcae33",
   "metadata": {},
   "outputs": [
    {
     "data": {
      "text/plain": [
       "4"
      ]
     },
     "execution_count": 4,
     "metadata": {},
     "output_type": "execute_result"
    }
   ],
   "source": [
    "2+2"
   ]
  },
  {
   "cell_type": "code",
   "execution_count": 6,
   "id": "f446baab",
   "metadata": {},
   "outputs": [
    {
     "data": {
      "text/plain": [
       "8"
      ]
     },
     "execution_count": 6,
     "metadata": {},
     "output_type": "execute_result"
    }
   ],
   "source": [
    "5+3"
   ]
  },
  {
   "cell_type": "markdown",
   "id": "e54725fd",
   "metadata": {},
   "source": [
    "This is my comment for my code"
   ]
  },
  {
   "cell_type": "code",
   "execution_count": 18,
   "id": "c4515b9c",
   "metadata": {},
   "outputs": [
    {
     "name": "stdout",
     "output_type": "stream",
     "text": [
      "  checking_status  duration                    credit_history  \\\n",
      "0            '<0'         6  'critical/other existing credit'   \n",
      "1      '0<=X<200'        48                   'existing paid'   \n",
      "2   'no checking'        12  'critical/other existing credit'   \n",
      "3            '<0'        42                   'existing paid'   \n",
      "4            '<0'        24              'delayed previously'   \n",
      "\n",
      "               purpose  credit_amount      savings_status employment  \\\n",
      "0             radio/tv           1169  'no known savings'      '>=7'   \n",
      "1             radio/tv           5951              '<100'   '1<=X<4'   \n",
      "2            education           2096              '<100'   '4<=X<7'   \n",
      "3  furniture/equipment           7882              '<100'   '4<=X<7'   \n",
      "4            'new car'           4870              '<100'   '1<=X<4'   \n",
      "\n",
      "   installment_commitment       personal_status other_parties  ...  \\\n",
      "0                       4         'male single'          none  ...   \n",
      "1                       2  'female div/dep/mar'          none  ...   \n",
      "2                       2         'male single'          none  ...   \n",
      "3                       2         'male single'     guarantor  ...   \n",
      "4                       3         'male single'          none  ...   \n",
      "\n",
      "    property_magnitude age  other_payment_plans     housing existing_credits  \\\n",
      "0        'real estate'  67                 none         own                2   \n",
      "1        'real estate'  22                 none         own                1   \n",
      "2        'real estate'  49                 none         own                1   \n",
      "3     'life insurance'  45                 none  'for free'                1   \n",
      "4  'no known property'  53                 none  'for free'                2   \n",
      "\n",
      "                    job num_dependents  own_telephone foreign_worker class  \n",
      "0               skilled              1            yes            yes  good  \n",
      "1               skilled              1           none            yes   bad  \n",
      "2  'unskilled resident'              2           none            yes  good  \n",
      "3               skilled              2           none            yes  good  \n",
      "4               skilled              2           none            yes   bad  \n",
      "\n",
      "[5 rows x 21 columns]\n"
     ]
    }
   ],
   "source": [
    "import pandas as pd\n",
    "\n",
    "# URL for Credit Card Fraud Detection dataset\n",
    "url_credit_card = 'https://www.openml.org/data/get_csv/31/dataset_31_credit_card_fraud_detection.csv'\n",
    "df_credit_card = pd.read_csv(url_credit_card)\n",
    "\n",
    "print(df_credit_card.head())\n"
   ]
  }
 ],
 "metadata": {
  "kernelspec": {
   "display_name": "Python 3 (ipykernel)",
   "language": "python",
   "name": "python3"
  },
  "language_info": {
   "codemirror_mode": {
    "name": "ipython",
    "version": 3
   },
   "file_extension": ".py",
   "mimetype": "text/x-python",
   "name": "python",
   "nbconvert_exporter": "python",
   "pygments_lexer": "ipython3",
   "version": "3.11.6"
  }
 },
 "nbformat": 4,
 "nbformat_minor": 5
}
